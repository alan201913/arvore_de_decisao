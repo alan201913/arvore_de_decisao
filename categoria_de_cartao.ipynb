{
 "cells": [
  {
   "cell_type": "code",
   "execution_count": 5,
   "metadata": {},
   "outputs": [],
   "source": [
    "import pandas as pd\r\n",
    "from sklearn.model_selection import train_test_split\r\n",
    "import requests"
   ]
  },
  {
   "cell_type": "markdown",
   "metadata": {},
   "source": [
    "Arquivo disponivel em: 'https://www.kaggle.com/amanpatyal/exploratory-analysis-bankchurners-csv?select=BankChurners.csv')"
   ]
  },
  {
   "cell_type": "code",
   "execution_count": 24,
   "metadata": {},
   "outputs": [],
   "source": [
    "df = pd.read_csv('BankChurners.csv', encoding=\"Latin1\")"
   ]
  },
  {
   "cell_type": "code",
   "execution_count": 25,
   "metadata": {},
   "outputs": [
    {
     "data": {
      "text/html": "<div>\n<style scoped>\n    .dataframe tbody tr th:only-of-type {\n        vertical-align: middle;\n    }\n\n    .dataframe tbody tr th {\n        vertical-align: top;\n    }\n\n    .dataframe thead th {\n        text-align: right;\n    }\n</style>\n<table border=\"1\" class=\"dataframe\">\n  <thead>\n    <tr style=\"text-align: right;\">\n      <th></th>\n      <th>CLIENTNUM</th>\n      <th>Attrition_Flag</th>\n      <th>Customer_Age</th>\n      <th>Gender</th>\n      <th>Dependent_count</th>\n      <th>Education_Level</th>\n      <th>Marital_Status</th>\n      <th>Income_Category</th>\n      <th>Card_Category</th>\n      <th>Months_on_book</th>\n      <th>...</th>\n      <th>Credit_Limit</th>\n      <th>Total_Revolving_Bal</th>\n      <th>Avg_Open_To_Buy</th>\n      <th>Total_Amt_Chng_Q4_Q1</th>\n      <th>Total_Trans_Amt</th>\n      <th>Total_Trans_Ct</th>\n      <th>Total_Ct_Chng_Q4_Q1</th>\n      <th>Avg_Utilization_Ratio</th>\n      <th>Naive_Bayes_Classifier_Attrition_Flag_Card_Category_Contacts_Count_12_mon_Dependent_count_Education_Level_Months_Inactive_12_mon_1</th>\n      <th>Naive_Bayes_Classifier_Attrition_Flag_Card_Category_Contacts_Count_12_mon_Dependent_count_Education_Level_Months_Inactive_12_mon_2</th>\n    </tr>\n  </thead>\n  <tbody>\n    <tr>\n      <th>0</th>\n      <td>768805383</td>\n      <td>0</td>\n      <td>45</td>\n      <td>M</td>\n      <td>3</td>\n      <td>High School</td>\n      <td>Married</td>\n      <td>$60K - $80K</td>\n      <td>Blue</td>\n      <td>39</td>\n      <td>...</td>\n      <td>12691.0</td>\n      <td>777</td>\n      <td>11914.0</td>\n      <td>1.335</td>\n      <td>1144</td>\n      <td>42</td>\n      <td>1.625</td>\n      <td>0.061</td>\n      <td>0.000093</td>\n      <td>0.99991</td>\n    </tr>\n    <tr>\n      <th>1</th>\n      <td>818770008</td>\n      <td>0</td>\n      <td>49</td>\n      <td>F</td>\n      <td>5</td>\n      <td>Graduate</td>\n      <td>Single</td>\n      <td>Less than $40K</td>\n      <td>Blue</td>\n      <td>44</td>\n      <td>...</td>\n      <td>8256.0</td>\n      <td>864</td>\n      <td>7392.0</td>\n      <td>1.541</td>\n      <td>1291</td>\n      <td>33</td>\n      <td>3.714</td>\n      <td>0.105</td>\n      <td>0.000057</td>\n      <td>0.99994</td>\n    </tr>\n    <tr>\n      <th>2</th>\n      <td>713982108</td>\n      <td>0</td>\n      <td>51</td>\n      <td>M</td>\n      <td>3</td>\n      <td>Graduate</td>\n      <td>Married</td>\n      <td>$80K - $120K</td>\n      <td>Blue</td>\n      <td>36</td>\n      <td>...</td>\n      <td>3418.0</td>\n      <td>0</td>\n      <td>3418.0</td>\n      <td>2.594</td>\n      <td>1887</td>\n      <td>20</td>\n      <td>2.333</td>\n      <td>0.000</td>\n      <td>0.000021</td>\n      <td>0.99998</td>\n    </tr>\n    <tr>\n      <th>3</th>\n      <td>769911858</td>\n      <td>0</td>\n      <td>40</td>\n      <td>F</td>\n      <td>4</td>\n      <td>High School</td>\n      <td>Unknown</td>\n      <td>Less than $40K</td>\n      <td>Blue</td>\n      <td>34</td>\n      <td>...</td>\n      <td>3313.0</td>\n      <td>2517</td>\n      <td>796.0</td>\n      <td>1.405</td>\n      <td>1171</td>\n      <td>20</td>\n      <td>2.333</td>\n      <td>0.760</td>\n      <td>0.000134</td>\n      <td>0.99987</td>\n    </tr>\n    <tr>\n      <th>4</th>\n      <td>709106358</td>\n      <td>0</td>\n      <td>40</td>\n      <td>M</td>\n      <td>3</td>\n      <td>Uneducated</td>\n      <td>Married</td>\n      <td>$60K - $80K</td>\n      <td>Blue</td>\n      <td>21</td>\n      <td>...</td>\n      <td>4716.0</td>\n      <td>0</td>\n      <td>4716.0</td>\n      <td>2.175</td>\n      <td>816</td>\n      <td>28</td>\n      <td>2.500</td>\n      <td>0.000</td>\n      <td>0.000022</td>\n      <td>0.99998</td>\n    </tr>\n  </tbody>\n</table>\n<p>5 rows × 23 columns</p>\n</div>",
      "text/plain": "   CLIENTNUM  Attrition_Flag  Customer_Age Gender  Dependent_count  \\\n0  768805383               0            45      M                3   \n1  818770008               0            49      F                5   \n2  713982108               0            51      M                3   \n3  769911858               0            40      F                4   \n4  709106358               0            40      M                3   \n\n  Education_Level Marital_Status Income_Category Card_Category  \\\n0     High School        Married     $60K - $80K          Blue   \n1        Graduate         Single  Less than $40K          Blue   \n2        Graduate        Married    $80K - $120K          Blue   \n3     High School        Unknown  Less than $40K          Blue   \n4      Uneducated        Married     $60K - $80K          Blue   \n\n   Months_on_book  ...  Credit_Limit  Total_Revolving_Bal  Avg_Open_To_Buy  \\\n0              39  ...       12691.0                  777          11914.0   \n1              44  ...        8256.0                  864           7392.0   \n2              36  ...        3418.0                    0           3418.0   \n3              34  ...        3313.0                 2517            796.0   \n4              21  ...        4716.0                    0           4716.0   \n\n   Total_Amt_Chng_Q4_Q1  Total_Trans_Amt  Total_Trans_Ct  Total_Ct_Chng_Q4_Q1  \\\n0                 1.335             1144              42                1.625   \n1                 1.541             1291              33                3.714   \n2                 2.594             1887              20                2.333   \n3                 1.405             1171              20                2.333   \n4                 2.175              816              28                2.500   \n\n   Avg_Utilization_Ratio  \\\n0                  0.061   \n1                  0.105   \n2                  0.000   \n3                  0.760   \n4                  0.000   \n\n   Naive_Bayes_Classifier_Attrition_Flag_Card_Category_Contacts_Count_12_mon_Dependent_count_Education_Level_Months_Inactive_12_mon_1  \\\n0                                           0.000093                                                                                    \n1                                           0.000057                                                                                    \n2                                           0.000021                                                                                    \n3                                           0.000134                                                                                    \n4                                           0.000022                                                                                    \n\n   Naive_Bayes_Classifier_Attrition_Flag_Card_Category_Contacts_Count_12_mon_Dependent_count_Education_Level_Months_Inactive_12_mon_2  \n0                                            0.99991                                                                                   \n1                                            0.99994                                                                                   \n2                                            0.99998                                                                                   \n3                                            0.99987                                                                                   \n4                                            0.99998                                                                                   \n\n[5 rows x 23 columns]"
     },
     "execution_count": 25,
     "metadata": {},
     "output_type": "execute_result"
    }
   ],
   "source": [
    "df.head()"
   ]
  },
  {
   "cell_type": "code",
   "execution_count": 26,
   "metadata": {},
   "outputs": [],
   "source": [
    "df_x = df.drop(columns = ['CLIENTNUM','Months_on_book','Total_Relationship_Count','Months_Inactive_12_mon','Contacts_Count_12_mon', 'Credit_Limit','Total_Revolving_Bal','Avg_Open_To_Buy', 'Total_Amt_Chng_Q4_Q1' ,'Total_Trans_Amt', 'Total_Trans_Ct','Total_Ct_Chng_Q4_Q1','Avg_Utilization_Ratio','Naive_Bayes_Classifier_Attrition_Flag_Card_Category_Contacts_Count_12_mon_Dependent_count_Education_Level_Months_Inactive_12_mon_1','Naive_Bayes_Classifier_Attrition_Flag_Card_Category_Contacts_Count_12_mon_Dependent_count_Education_Level_Months_Inactive_12_mon_2','Card_Category'], axis = 1)"
   ]
  },
  {
   "cell_type": "code",
   "execution_count": 27,
   "metadata": {},
   "outputs": [],
   "source": [
    "df_y = df['Card_Category']"
   ]
  },
  {
   "cell_type": "code",
   "execution_count": 28,
   "metadata": {},
   "outputs": [
    {
     "data": {
      "text/html": "<div>\n<style scoped>\n    .dataframe tbody tr th:only-of-type {\n        vertical-align: middle;\n    }\n\n    .dataframe tbody tr th {\n        vertical-align: top;\n    }\n\n    .dataframe thead th {\n        text-align: right;\n    }\n</style>\n<table border=\"1\" class=\"dataframe\">\n  <thead>\n    <tr style=\"text-align: right;\">\n      <th></th>\n      <th>Attrition_Flag</th>\n      <th>Customer_Age</th>\n      <th>Gender</th>\n      <th>Dependent_count</th>\n      <th>Education_Level</th>\n      <th>Marital_Status</th>\n      <th>Income_Category</th>\n    </tr>\n  </thead>\n  <tbody>\n    <tr>\n      <th>0</th>\n      <td>0</td>\n      <td>45</td>\n      <td>M</td>\n      <td>3</td>\n      <td>High School</td>\n      <td>Married</td>\n      <td>$60K - $80K</td>\n    </tr>\n    <tr>\n      <th>1</th>\n      <td>0</td>\n      <td>49</td>\n      <td>F</td>\n      <td>5</td>\n      <td>Graduate</td>\n      <td>Single</td>\n      <td>Less than $40K</td>\n    </tr>\n    <tr>\n      <th>2</th>\n      <td>0</td>\n      <td>51</td>\n      <td>M</td>\n      <td>3</td>\n      <td>Graduate</td>\n      <td>Married</td>\n      <td>$80K - $120K</td>\n    </tr>\n    <tr>\n      <th>3</th>\n      <td>0</td>\n      <td>40</td>\n      <td>F</td>\n      <td>4</td>\n      <td>High School</td>\n      <td>Unknown</td>\n      <td>Less than $40K</td>\n    </tr>\n    <tr>\n      <th>4</th>\n      <td>0</td>\n      <td>40</td>\n      <td>M</td>\n      <td>3</td>\n      <td>Uneducated</td>\n      <td>Married</td>\n      <td>$60K - $80K</td>\n    </tr>\n  </tbody>\n</table>\n</div>",
      "text/plain": "   Attrition_Flag  Customer_Age Gender  Dependent_count Education_Level  \\\n0               0            45      M                3     High School   \n1               0            49      F                5        Graduate   \n2               0            51      M                3        Graduate   \n3               0            40      F                4     High School   \n4               0            40      M                3      Uneducated   \n\n  Marital_Status Income_Category  \n0        Married     $60K - $80K  \n1         Single  Less than $40K  \n2        Married    $80K - $120K  \n3        Unknown  Less than $40K  \n4        Married     $60K - $80K  "
     },
     "execution_count": 28,
     "metadata": {},
     "output_type": "execute_result"
    }
   ],
   "source": [
    "df_x.head()"
   ]
  },
  {
   "cell_type": "code",
   "execution_count": 29,
   "metadata": {
    "tags": []
   },
   "outputs": [],
   "source": [
    "#converter M para zero e F para 1\r\n",
    "df_x.Gender.replace(to_replace=dict(F=1, M=0), inplace=True)"
   ]
  },
  {
   "cell_type": "code",
   "execution_count": 32,
   "metadata": {},
   "outputs": [],
   "source": [
    "\r\n",
    "#retirar espaços em branco\r\n",
    "df_x.Education_Level = df_x.Education_Level.str.replace(' ','')\r\n",
    "df_x.Education_Level = df_x.Education_Level.str.replace('High School','HighSchool')"
   ]
  },
  {
   "cell_type": "code",
   "execution_count": 33,
   "metadata": {},
   "outputs": [],
   "source": [
    "#retirar caracteres\r\n",
    "df_x.Education_Level = df_x.Education_Level.str.replace('-','_')"
   ]
  },
  {
   "cell_type": "code",
   "execution_count": 34,
   "metadata": {},
   "outputs": [],
   "source": [
    "#alterar Categoria graduação por numerica\r\n",
    "df_x.Education_Level.replace(to_replace = dict(College = 0, Doctorate =1, Graduate=2, HighSchool=3, Post_Graduate=4, Uneducated=5, Unknown=6), inplace = True)"
   ]
  },
  {
   "cell_type": "code",
   "execution_count": 35,
   "metadata": {},
   "outputs": [],
   "source": [
    "#alterar categoria estado_civil por numerico\r\n",
    "df_x.Marital_Status.replace(to_replace=dict(Divorced = 0, Married =1, Single=2, Unknown=3), inplace = True)"
   ]
  },
  {
   "cell_type": "code",
   "execution_count": 36,
   "metadata": {},
   "outputs": [],
   "source": [
    "#Retirar caracteres especiais e espaços\r\n",
    "df_x.Income_Category = df_x.Income_Category.str.replace(\" \",\"\")\r\n",
    "df_x.Income_Category = df_x.Income_Category.str.replace(\"$\",\"\")\r\n",
    "df_x.Income_Category = df_x.Income_Category.str.replace(\"K\",\"\")\r\n",
    "df_x.Income_Category = df_x.Income_Category.str.replace(\"+\",\"\")\r\n",
    "df_x.Income_Category = df_x.Income_Category.str.replace(\"-\",\"_\")"
   ]
  },
  {
   "cell_type": "code",
   "execution_count": 37,
   "metadata": {},
   "outputs": [],
   "source": [
    "#alterar numerico para estring\r\n",
    "df_x.Income_Category = df_x.Income_Category.str.replace('120', 'cv')\r\n",
    "df_x.Income_Category = df_x.Income_Category.str.replace('40_60','q_s')\r\n",
    "df_x.Income_Category = df_x.Income_Category.str.replace('60_80','s_o')\r\n",
    "df_x.Income_Category = df_x.Income_Category.str.replace('80_120','o_cv')\r\n",
    "df_x.Income_Category = df_x.Income_Category.str.replace(\"80_cv\",\"o_cv\")#correção do erro 120"
   ]
  },
  {
   "cell_type": "code",
   "execution_count": 38,
   "metadata": {},
   "outputs": [],
   "source": [
    "#alterar renda familiar\r\n",
    "df_x.Income_Category.replace(to_replace=dict(cv = 0, q_s =1, s_o=2, o_cv=3, Lessthan40=4, Unknown=5),inplace = True)"
   ]
  },
  {
   "cell_type": "code",
   "execution_count": 39,
   "metadata": {},
   "outputs": [
    {
     "data": {
      "text/html": "<div>\n<style scoped>\n    .dataframe tbody tr th:only-of-type {\n        vertical-align: middle;\n    }\n\n    .dataframe tbody tr th {\n        vertical-align: top;\n    }\n\n    .dataframe thead th {\n        text-align: right;\n    }\n</style>\n<table border=\"1\" class=\"dataframe\">\n  <thead>\n    <tr style=\"text-align: right;\">\n      <th></th>\n      <th>Attrition_Flag</th>\n      <th>Customer_Age</th>\n      <th>Gender</th>\n      <th>Dependent_count</th>\n      <th>Education_Level</th>\n      <th>Marital_Status</th>\n      <th>Income_Category</th>\n    </tr>\n  </thead>\n  <tbody>\n    <tr>\n      <th>0</th>\n      <td>0</td>\n      <td>45</td>\n      <td>0</td>\n      <td>3</td>\n      <td>3</td>\n      <td>1</td>\n      <td>2</td>\n    </tr>\n    <tr>\n      <th>1</th>\n      <td>0</td>\n      <td>49</td>\n      <td>1</td>\n      <td>5</td>\n      <td>2</td>\n      <td>2</td>\n      <td>4</td>\n    </tr>\n    <tr>\n      <th>2</th>\n      <td>0</td>\n      <td>51</td>\n      <td>0</td>\n      <td>3</td>\n      <td>2</td>\n      <td>1</td>\n      <td>3</td>\n    </tr>\n    <tr>\n      <th>3</th>\n      <td>0</td>\n      <td>40</td>\n      <td>1</td>\n      <td>4</td>\n      <td>3</td>\n      <td>3</td>\n      <td>4</td>\n    </tr>\n    <tr>\n      <th>4</th>\n      <td>0</td>\n      <td>40</td>\n      <td>0</td>\n      <td>3</td>\n      <td>5</td>\n      <td>1</td>\n      <td>2</td>\n    </tr>\n  </tbody>\n</table>\n</div>",
      "text/plain": "   Attrition_Flag  Customer_Age  Gender  Dependent_count  Education_Level  \\\n0               0            45       0                3                3   \n1               0            49       1                5                2   \n2               0            51       0                3                2   \n3               0            40       1                4                3   \n4               0            40       0                3                5   \n\n   Marital_Status  Income_Category  \n0               1                2  \n1               2                4  \n2               1                3  \n3               3                4  \n4               1                2  "
     },
     "execution_count": 39,
     "metadata": {},
     "output_type": "execute_result"
    }
   ],
   "source": [
    "df_x.head()"
   ]
  },
  {
   "cell_type": "markdown",
   "metadata": {},
   "source": [
    "DIVISAO DE TREINO E TESTE"
   ]
  },
  {
   "cell_type": "code",
   "execution_count": 43,
   "metadata": {},
   "outputs": [
    {
     "data": {
      "text/plain": "array([0, 1, 2, 3], dtype=int64)"
     },
     "execution_count": 43,
     "metadata": {},
     "output_type": "execute_result"
    }
   ],
   "source": [
    "#dados cards\r\n",
    "df_y.unique()"
   ]
  },
  {
   "cell_type": "code",
   "execution_count": 42,
   "metadata": {},
   "outputs": [],
   "source": [
    "# Alterar as categorias do card\r\n",
    "df_y.replace(to_replace=dict(Blue=0, Gold=1, Silver=2,Platinum=3),inplace = True)"
   ]
  },
  {
   "cell_type": "code",
   "execution_count": 47,
   "metadata": {},
   "outputs": [
    {
     "name": "stdout",
     "output_type": "stream",
     "text": [
      "(7088, 7) (3039, 7) (7088,) (3039,)\n"
     ]
    }
   ],
   "source": [
    "x_train, x_test, y_train, y_test = train_test_split(df_x, df_y, test_size = 0.3)\r\n",
    "print(x_train.shape, x_test.shape, y_train.shape, y_test.shape)"
   ]
  },
  {
   "cell_type": "code",
   "execution_count": 50,
   "metadata": {},
   "outputs": [],
   "source": [
    "from sklearn import tree\r\n",
    "clf = tree.DecisionTreeClassifier()"
   ]
  },
  {
   "cell_type": "code",
   "execution_count": 51,
   "metadata": {},
   "outputs": [],
   "source": [
    "clf = clf.fit(x_train, y_train)"
   ]
  },
  {
   "cell_type": "code",
   "execution_count": 52,
   "metadata": {},
   "outputs": [
    {
     "data": {
      "text/plain": "array([0.06485357, 0.32635917, 0.00819724, 0.14965842, 0.23124413,\n       0.08186187, 0.13782559])"
     },
     "execution_count": 52,
     "metadata": {},
     "output_type": "execute_result"
    }
   ],
   "source": [
    "#Imprimi os valores de importancia das features no modelo\r\n",
    "clf.feature_importances_"
   ]
  },
  {
   "cell_type": "code",
   "execution_count": 54,
   "metadata": {},
   "outputs": [
    {
     "name": "stdout",
     "output_type": "stream",
     "text": [
      "Attrition_Flag:0.06485357200195455\n",
      "Customer_Age:0.32635917054984354\n",
      "Gender:0.00819724267741294\n",
      "Dependent_count:0.149658420622347\n",
      "Education_Level:0.2312441347952934\n",
      "Marital_Status:0.08186186912913575\n",
      "Income_Category:0.13782559022401286\n"
     ]
    }
   ],
   "source": [
    "#imprimir variaveis e suas importancia no modelo\r\n",
    "for feature, importancia in zip(df_x, clf.feature_importances_):\r\n",
    "    print('{}:{}'.format(feature, importancia))"
   ]
  },
  {
   "cell_type": "code",
   "execution_count": 55,
   "metadata": {},
   "outputs": [
    {
     "data": {
      "text/plain": "array([0, 0, 2, ..., 0, 0, 0], dtype=int64)"
     },
     "execution_count": 55,
     "metadata": {},
     "output_type": "execute_result"
    }
   ],
   "source": [
    "resultado = clf.predict(x_test)\n",
    "resultado"
   ]
  },
  {
   "cell_type": "code",
   "execution_count": 87,
   "metadata": {},
   "outputs": [
    {
     "data": {
      "image/png": "[encoded data removed]",
      "text/plain": "<Figure size 1440x360 with 1 Axes>"
     },
     "metadata": {
      "needs_background": "light"
     },
     "output_type": "display_data"
    }
   ],
   "source": [
    "import matplotlib.pyplot as plt\r\n",
    "resultado1 = pd.DataFrame(resultado)\r\n",
    "y_test1 = pd.DataFrame(y_test)\r\n",
    "plt.figure(figsize=(20,5))\r\n",
    "plt.plot(resultado1.values)\r\n",
    "plt.plot(y_test1.values)\r\n",
    "plt.show()"
   ]
  },
  {
   "cell_type": "code",
   "execution_count": 56,
   "metadata": {},
   "outputs": [
    {
     "data": {
      "text/plain": "['Blue', 'Gold', 'Platinum', 'Silver']"
     },
     "execution_count": 56,
     "metadata": {},
     "output_type": "execute_result"
    }
   ],
   "source": [
    "categoria = ['Blue','Gold', 'Platinum', 'Silver']\n",
    "categoria"
   ]
  },
  {
   "cell_type": "code",
   "execution_count": 57,
   "metadata": {},
   "outputs": [
    {
     "name": "stdout",
     "output_type": "stream",
     "text": [
      "              precision    recall  f1-score   support\n",
      "\n",
      "        Blue       0.93      0.94      0.94      2832\n",
      "        Gold       0.00      0.00      0.00        34\n",
      "    Platinum       0.03      0.02      0.03       171\n",
      "      Silver       0.00      0.00      0.00         2\n",
      "\n",
      "    accuracy                           0.88      3039\n",
      "   macro avg       0.24      0.24      0.24      3039\n",
      "weighted avg       0.87      0.88      0.87      3039\n",
      "\n"
     ]
    }
   ],
   "source": [
    "from sklearn import metrics\n",
    "print(metrics.classification_report(y_test, resultado, target_names = categoria))"
   ]
  },
  {
   "cell_type": "code",
   "execution_count": 58,
   "metadata": {},
   "outputs": [],
   "source": [
    "import pydot\n",
    "import graphviz\n",
    "from ipywidgets import interact"
   ]
  },
  {
   "cell_type": "code",
   "execution_count": 113,
   "metadata": {},
   "outputs": [
    {
     "data": {
      "image/svg+xml": "<?xml version=\"1.0\" encoding=\"UTF-8\" standalone=\"no\"?>\r\n<!DOCTYPE svg PUBLIC \"-//W3C//DTD SVG 1.1//EN\"\r\n \"http://www.w3.org/Graphics/SVG/1.1/DTD/svg11.dtd\">\r\n<!-- Generated by graphviz version 2.38.0 (20140413.2041)\r\n -->\r\n<!-- Title: Tree Pages: 1 -->\r\n<svg width=\"690pt\" height=\"401pt\"\r\n viewBox=\"0.00 0.00 689.50 401.00\" xmlns=\"http://www.w3.org/2000/svg\" xmlns:xlink=\"http://www.w3.org/1999/xlink\">\r\n<g id=\"graph0\" class=\"graph\" transform=\"scale(1 1) rotate(0) translate(4 397)\">\r\n<title>Tree</title>\r\n<polygon fill=\"white\" stroke=\"none\" points=\"-4,4 -4,-397 685.5,-397 685.5,4 -4,4\"/>\r\n<!-- 0 -->\r\n<g id=\"node1\" class=\"node\"><title>0</title>\r\n<polygon fill=\"none\" stroke=\"black\" points=\"429.5,-393 262.5,-393 262.5,-310 429.5,-310 429.5,-393\"/>\r\n<text text-anchor=\"middle\" x=\"346\" y=\"-377.8\" font-family=\"Times New Roman,serif\" font-size=\"14.00\">Gender &lt;= 0.5</text>\r\n<text text-anchor=\"middle\" x=\"346\" y=\"-362.8\" font-family=\"Times New Roman,serif\" font-size=\"14.00\">gini = 0.129</text>\r\n<text text-anchor=\"middle\" x=\"346\" y=\"-347.8\" font-family=\"Times New Roman,serif\" font-size=\"14.00\">samples = 7088</text>\r\n<text text-anchor=\"middle\" x=\"346\" y=\"-332.8\" font-family=\"Times New Roman,serif\" font-size=\"14.00\">value = [6604, 82, 384, 18]</text>\r\n<text text-anchor=\"middle\" x=\"346\" y=\"-317.8\" font-family=\"Times New Roman,serif\" font-size=\"14.00\">class = y[0]</text>\r\n</g>\r\n<!-- 1 -->\r\n<g id=\"node2\" class=\"node\"><title>1</title>\r\n<polygon fill=\"none\" stroke=\"black\" points=\"337,-274 177,-274 177,-191 337,-191 337,-274\"/>\r\n<text text-anchor=\"middle\" x=\"257\" y=\"-258.8\" font-family=\"Times New Roman,serif\" font-size=\"14.00\">Marital_Status &lt;= 1.5</text>\r\n<text text-anchor=\"middle\" x=\"257\" y=\"-243.8\" font-family=\"Times New Roman,serif\" font-size=\"14.00\">gini = 0.17</text>\r\n<text text-anchor=\"middle\" x=\"257\" y=\"-228.8\" font-family=\"Times New Roman,serif\" font-size=\"14.00\">samples = 3335</text>\r\n<text text-anchor=\"middle\" x=\"257\" y=\"-213.8\" font-family=\"Times New Roman,serif\" font-size=\"14.00\">value = [3028, 53, 245, 9]</text>\r\n<text text-anchor=\"middle\" x=\"257\" y=\"-198.8\" font-family=\"Times New Roman,serif\" font-size=\"14.00\">class = y[0]</text>\r\n</g>\r\n<!-- 0&#45;&gt;1 -->\r\n<g id=\"edge1\" class=\"edge\"><title>0&#45;&gt;1</title>\r\n<path fill=\"none\" stroke=\"black\" d=\"M315.122,-309.907C308.288,-300.923 300.979,-291.315 293.931,-282.05\"/>\r\n<polygon fill=\"black\" stroke=\"black\" points=\"296.664,-279.861 287.824,-274.021 291.092,-284.099 296.664,-279.861\"/>\r\n<text text-anchor=\"middle\" x=\"284.456\" y=\"-295.093\" font-family=\"Times New Roman,serif\" font-size=\"14.00\">True</text>\r\n</g>\r\n<!-- 1490 -->\r\n<g id=\"node9\" class=\"node\"><title>1490</title>\r\n<polygon fill=\"none\" stroke=\"black\" points=\"515,-274 355,-274 355,-191 515,-191 515,-274\"/>\r\n<text text-anchor=\"middle\" x=\"435\" y=\"-258.8\" font-family=\"Times New Roman,serif\" font-size=\"14.00\">Marital_Status &lt;= 1.5</text>\r\n<text text-anchor=\"middle\" x=\"435\" y=\"-243.8\" font-family=\"Times New Roman,serif\" font-size=\"14.00\">gini = 0.091</text>\r\n<text text-anchor=\"middle\" x=\"435\" y=\"-228.8\" font-family=\"Times New Roman,serif\" font-size=\"14.00\">samples = 3753</text>\r\n<text text-anchor=\"middle\" x=\"435\" y=\"-213.8\" font-family=\"Times New Roman,serif\" font-size=\"14.00\">value = [3576, 29, 139, 9]</text>\r\n<text text-anchor=\"middle\" x=\"435\" y=\"-198.8\" font-family=\"Times New Roman,serif\" font-size=\"14.00\">class = y[0]</text>\r\n</g>\r\n<!-- 0&#45;&gt;1490 -->\r\n<g id=\"edge8\" class=\"edge\"><title>0&#45;&gt;1490</title>\r\n<path fill=\"none\" stroke=\"black\" d=\"M376.878,-309.907C383.712,-300.923 391.021,-291.315 398.069,-282.05\"/>\r\n<polygon fill=\"black\" stroke=\"black\" points=\"400.908,-284.099 404.176,-274.021 395.336,-279.861 400.908,-284.099\"/>\r\n<text text-anchor=\"middle\" x=\"407.544\" y=\"-295.093\" font-family=\"Times New Roman,serif\" font-size=\"14.00\">False</text>\r\n</g>\r\n<!-- 2 -->\r\n<g id=\"node3\" class=\"node\"><title>2</title>\r\n<polygon fill=\"none\" stroke=\"black\" points=\"160,-155 0,-155 0,-72 160,-72 160,-155\"/>\r\n<text text-anchor=\"middle\" x=\"80\" y=\"-139.8\" font-family=\"Times New Roman,serif\" font-size=\"14.00\">Customer_Age &lt;= 52.5</text>\r\n<text text-anchor=\"middle\" x=\"80\" y=\"-124.8\" font-family=\"Times New Roman,serif\" font-size=\"14.00\">gini = 0.139</text>\r\n<text text-anchor=\"middle\" x=\"80\" y=\"-109.8\" font-family=\"Times New Roman,serif\" font-size=\"14.00\">samples = 1812</text>\r\n<text text-anchor=\"middle\" x=\"80\" y=\"-94.8\" font-family=\"Times New Roman,serif\" font-size=\"14.00\">value = [1678, 24, 105, 5]</text>\r\n<text text-anchor=\"middle\" x=\"80\" y=\"-79.8\" font-family=\"Times New Roman,serif\" font-size=\"14.00\">class = y[0]</text>\r\n</g>\r\n<!-- 1&#45;&gt;2 -->\r\n<g id=\"edge2\" class=\"edge\"><title>1&#45;&gt;2</title>\r\n<path fill=\"none\" stroke=\"black\" d=\"M195.591,-190.907C180.901,-181.197 165.109,-170.758 150.061,-160.811\"/>\r\n<polygon fill=\"black\" stroke=\"black\" points=\"151.573,-157.615 141.301,-155.021 147.713,-163.455 151.573,-157.615\"/>\r\n</g>\r\n<!-- 695 -->\r\n<g id=\"node6\" class=\"node\"><title>695</title>\r\n<polygon fill=\"none\" stroke=\"black\" points=\"338,-155 178,-155 178,-72 338,-72 338,-155\"/>\r\n<text text-anchor=\"middle\" x=\"258\" y=\"-139.8\" font-family=\"Times New Roman,serif\" font-size=\"14.00\">Income_Category &lt;= 3.5</text>\r\n<text text-anchor=\"middle\" x=\"258\" y=\"-124.8\" font-family=\"Times New Roman,serif\" font-size=\"14.00\">gini = 0.205</text>\r\n<text text-anchor=\"middle\" x=\"258\" y=\"-109.8\" font-family=\"Times New Roman,serif\" font-size=\"14.00\">samples = 1523</text>\r\n<text text-anchor=\"middle\" x=\"258\" y=\"-94.8\" font-family=\"Times New Roman,serif\" font-size=\"14.00\">value = [1350, 29, 140, 4]</text>\r\n<text text-anchor=\"middle\" x=\"258\" y=\"-79.8\" font-family=\"Times New Roman,serif\" font-size=\"14.00\">class = y[0]</text>\r\n</g>\r\n<!-- 1&#45;&gt;695 -->\r\n<g id=\"edge5\" class=\"edge\"><title>1&#45;&gt;695</title>\r\n<path fill=\"none\" stroke=\"black\" d=\"M257.347,-190.907C257.418,-182.649 257.493,-173.864 257.566,-165.302\"/>\r\n<polygon fill=\"black\" stroke=\"black\" points=\"261.068,-165.05 257.654,-155.021 254.068,-164.99 261.068,-165.05\"/>\r\n</g>\r\n<!-- 3 -->\r\n<g id=\"node4\" class=\"node\"><title>3</title>\r\n<polygon fill=\"none\" stroke=\"black\" points=\"83,-36 29,-36 29,-0 83,-0 83,-36\"/>\r\n<text text-anchor=\"middle\" x=\"56\" y=\"-14.3\" font-family=\"Times New Roman,serif\" font-size=\"14.00\">(...)</text>\r\n</g>\r\n<!-- 2&#45;&gt;3 -->\r\n<g id=\"edge3\" class=\"edge\"><title>2&#45;&gt;3</title>\r\n<path fill=\"none\" stroke=\"black\" d=\"M69.5431,-71.7615C67.3297,-63.1387 65.0452,-54.2385 62.9974,-46.2606\"/>\r\n<polygon fill=\"black\" stroke=\"black\" points=\"66.344,-45.2209 60.4676,-36.4051 59.5638,-46.9613 66.344,-45.2209\"/>\r\n</g>\r\n<!-- 638 -->\r\n<g id=\"node5\" class=\"node\"><title>638</title>\r\n<polygon fill=\"none\" stroke=\"black\" points=\"155,-36 101,-36 101,-0 155,-0 155,-36\"/>\r\n<text text-anchor=\"middle\" x=\"128\" y=\"-14.3\" font-family=\"Times New Roman,serif\" font-size=\"14.00\">(...)</text>\r\n</g>\r\n<!-- 2&#45;&gt;638 -->\r\n<g id=\"edge4\" class=\"edge\"><title>2&#45;&gt;638</title>\r\n<path fill=\"none\" stroke=\"black\" d=\"M100.914,-71.7615C105.49,-62.8481 110.218,-53.6382 114.418,-45.4571\"/>\r\n<polygon fill=\"black\" stroke=\"black\" points=\"117.611,-46.8998 119.065,-36.4051 111.384,-43.7028 117.611,-46.8998\"/>\r\n</g>\r\n<!-- 696 -->\r\n<g id=\"node7\" class=\"node\"><title>696</title>\r\n<polygon fill=\"none\" stroke=\"black\" points=\"241,-36 187,-36 187,-0 241,-0 241,-36\"/>\r\n<text text-anchor=\"middle\" x=\"214\" y=\"-14.3\" font-family=\"Times New Roman,serif\" font-size=\"14.00\">(...)</text>\r\n</g>\r\n<!-- 695&#45;&gt;696 -->\r\n<g id=\"edge6\" class=\"edge\"><title>695&#45;&gt;696</title>\r\n<path fill=\"none\" stroke=\"black\" d=\"M238.829,-71.7615C234.634,-62.8481 230.3,-53.6382 226.45,-45.4571\"/>\r\n<polygon fill=\"black\" stroke=\"black\" points=\"229.616,-43.963 222.191,-36.4051 223.282,-46.9436 229.616,-43.963\"/>\r\n</g>\r\n<!-- 1463 -->\r\n<g id=\"node8\" class=\"node\"><title>1463</title>\r\n<polygon fill=\"none\" stroke=\"black\" points=\"313,-36 259,-36 259,-0 313,-0 313,-36\"/>\r\n<text text-anchor=\"middle\" x=\"286\" y=\"-14.3\" font-family=\"Times New Roman,serif\" font-size=\"14.00\">(...)</text>\r\n</g>\r\n<!-- 695&#45;&gt;1463 -->\r\n<g id=\"edge7\" class=\"edge\"><title>695&#45;&gt;1463</title>\r\n<path fill=\"none\" stroke=\"black\" d=\"M270.2,-71.7615C272.811,-63.0419 275.507,-54.0385 277.917,-45.9921\"/>\r\n<polygon fill=\"black\" stroke=\"black\" points=\"281.272,-46.9889 280.788,-36.4051 274.566,-44.9807 281.272,-46.9889\"/>\r\n</g>\r\n<!-- 1491 -->\r\n<g id=\"node10\" class=\"node\"><title>1491</title>\r\n<polygon fill=\"none\" stroke=\"black\" points=\"510.5,-155 357.5,-155 357.5,-72 510.5,-72 510.5,-155\"/>\r\n<text text-anchor=\"middle\" x=\"434\" y=\"-139.8\" font-family=\"Times New Roman,serif\" font-size=\"14.00\">Customer_Age &lt;= 51.5</text>\r\n<text text-anchor=\"middle\" x=\"434\" y=\"-124.8\" font-family=\"Times New Roman,serif\" font-size=\"14.00\">gini = 0.069</text>\r\n<text text-anchor=\"middle\" x=\"434\" y=\"-109.8\" font-family=\"Times New Roman,serif\" font-size=\"14.00\">samples = 2026</text>\r\n<text text-anchor=\"middle\" x=\"434\" y=\"-94.8\" font-family=\"Times New Roman,serif\" font-size=\"14.00\">value = [1954, 10, 60, 2]</text>\r\n<text text-anchor=\"middle\" x=\"434\" y=\"-79.8\" font-family=\"Times New Roman,serif\" font-size=\"14.00\">class = y[0]</text>\r\n</g>\r\n<!-- 1490&#45;&gt;1491 -->\r\n<g id=\"edge9\" class=\"edge\"><title>1490&#45;&gt;1491</title>\r\n<path fill=\"none\" stroke=\"black\" d=\"M434.653,-190.907C434.582,-182.649 434.507,-173.864 434.434,-165.302\"/>\r\n<polygon fill=\"black\" stroke=\"black\" points=\"437.932,-164.99 434.346,-155.021 430.932,-165.05 437.932,-164.99\"/>\r\n</g>\r\n<!-- 1946 -->\r\n<g id=\"node13\" class=\"node\"><title>1946</title>\r\n<polygon fill=\"none\" stroke=\"black\" points=\"681.5,-155 528.5,-155 528.5,-72 681.5,-72 681.5,-155\"/>\r\n<text text-anchor=\"middle\" x=\"605\" y=\"-139.8\" font-family=\"Times New Roman,serif\" font-size=\"14.00\">Customer_Age &lt;= 46.5</text>\r\n<text text-anchor=\"middle\" x=\"605\" y=\"-124.8\" font-family=\"Times New Roman,serif\" font-size=\"14.00\">gini = 0.116</text>\r\n<text text-anchor=\"middle\" x=\"605\" y=\"-109.8\" font-family=\"Times New Roman,serif\" font-size=\"14.00\">samples = 1727</text>\r\n<text text-anchor=\"middle\" x=\"605\" y=\"-94.8\" font-family=\"Times New Roman,serif\" font-size=\"14.00\">value = [1622, 19, 79, 7]</text>\r\n<text text-anchor=\"middle\" x=\"605\" y=\"-79.8\" font-family=\"Times New Roman,serif\" font-size=\"14.00\">class = y[0]</text>\r\n</g>\r\n<!-- 1490&#45;&gt;1946 -->\r\n<g id=\"edge12\" class=\"edge\"><title>1490&#45;&gt;1946</title>\r\n<path fill=\"none\" stroke=\"black\" d=\"M493.981,-190.907C508.09,-181.197 523.257,-170.758 537.71,-160.811\"/>\r\n<polygon fill=\"black\" stroke=\"black\" points=\"539.87,-163.573 546.124,-155.021 535.902,-157.807 539.87,-163.573\"/>\r\n</g>\r\n<!-- 1492 -->\r\n<g id=\"node11\" class=\"node\"><title>1492</title>\r\n<polygon fill=\"none\" stroke=\"black\" points=\"413,-36 359,-36 359,-0 413,-0 413,-36\"/>\r\n<text text-anchor=\"middle\" x=\"386\" y=\"-14.3\" font-family=\"Times New Roman,serif\" font-size=\"14.00\">(...)</text>\r\n</g>\r\n<!-- 1491&#45;&gt;1492 -->\r\n<g id=\"edge10\" class=\"edge\"><title>1491&#45;&gt;1492</title>\r\n<path fill=\"none\" stroke=\"black\" d=\"M413.086,-71.7615C408.51,-62.8481 403.782,-53.6382 399.582,-45.4571\"/>\r\n<polygon fill=\"black\" stroke=\"black\" points=\"402.616,-43.7028 394.935,-36.4051 396.389,-46.8998 402.616,-43.7028\"/>\r\n</g>\r\n<!-- 1881 -->\r\n<g id=\"node12\" class=\"node\"><title>1881</title>\r\n<polygon fill=\"none\" stroke=\"black\" points=\"485,-36 431,-36 431,-0 485,-0 485,-36\"/>\r\n<text text-anchor=\"middle\" x=\"458\" y=\"-14.3\" font-family=\"Times New Roman,serif\" font-size=\"14.00\">(...)</text>\r\n</g>\r\n<!-- 1491&#45;&gt;1881 -->\r\n<g id=\"edge11\" class=\"edge\"><title>1491&#45;&gt;1881</title>\r\n<path fill=\"none\" stroke=\"black\" d=\"M444.457,-71.7615C446.67,-63.1387 448.955,-54.2385 451.003,-46.2606\"/>\r\n<polygon fill=\"black\" stroke=\"black\" points=\"454.436,-46.9613 453.532,-36.4051 447.656,-45.2209 454.436,-46.9613\"/>\r\n</g>\r\n<!-- 1947 -->\r\n<g id=\"node14\" class=\"node\"><title>1947</title>\r\n<polygon fill=\"none\" stroke=\"black\" points=\"596,-36 542,-36 542,-0 596,-0 596,-36\"/>\r\n<text text-anchor=\"middle\" x=\"569\" y=\"-14.3\" font-family=\"Times New Roman,serif\" font-size=\"14.00\">(...)</text>\r\n</g>\r\n<!-- 1946&#45;&gt;1947 -->\r\n<g id=\"edge13\" class=\"edge\"><title>1946&#45;&gt;1947</title>\r\n<path fill=\"none\" stroke=\"black\" d=\"M589.315,-71.7615C585.957,-63.0419 582.491,-54.0385 579.393,-45.9921\"/>\r\n<polygon fill=\"black\" stroke=\"black\" points=\"582.561,-44.4797 575.701,-36.4051 576.028,-46.9949 582.561,-44.4797\"/>\r\n</g>\r\n<!-- 2318 -->\r\n<g id=\"node15\" class=\"node\"><title>2318</title>\r\n<polygon fill=\"none\" stroke=\"black\" points=\"668,-36 614,-36 614,-0 668,-0 668,-36\"/>\r\n<text text-anchor=\"middle\" x=\"641\" y=\"-14.3\" font-family=\"Times New Roman,serif\" font-size=\"14.00\">(...)</text>\r\n</g>\r\n<!-- 1946&#45;&gt;2318 -->\r\n<g id=\"edge14\" class=\"edge\"><title>1946&#45;&gt;2318</title>\r\n<path fill=\"none\" stroke=\"black\" d=\"M620.685,-71.7615C624.043,-63.0419 627.509,-54.0385 630.607,-45.9921\"/>\r\n<polygon fill=\"black\" stroke=\"black\" points=\"633.972,-46.9949 634.299,-36.4051 627.439,-44.4797 633.972,-46.9949\"/>\r\n</g>\r\n</g>\r\n</svg>\r\n",
      "text/plain": "<graphviz.files.Source at 0x1b0f6a5c828>"
     },
     "execution_count": 113,
     "metadata": {},
     "output_type": "execute_result"
    }
   ],
   "source": [
    "dot_data = tree.export_graphviz(clf, max_depth= 2, feature_names = df_x.columns, class_names =True)\r\n",
    "\r\n",
    "graph = graphviz.Source(dot_data)\r\n",
    "graph"
   ]
  },
  {
   "cell_type": "code",
   "execution_count": null,
   "metadata": {},
   "outputs": [],
   "source": []
  },
  {
   "cell_type": "code",
   "execution_count": null,
   "metadata": {},
   "outputs": [],
   "source": []
  }
 ],
 "metadata": {
  "kernelspec": {
   "display_name": "Python 3.6.13 64-bit ('rstudio': conda)",
   "name": "python361064bitrstudioconda513e24904db946728c3cecb24ed57d38"
  },
  "language_info": {
   "codemirror_mode": {
    "name": "ipython",
    "version": 3
   },
   "file_extension": ".py",
   "mimetype": "text/x-python",
   "name": "python",
   "nbconvert_exporter": "python",
   "pygments_lexer": "ipython3",
   "version": "3.6.13"
  },
  "metadata": {
   "interpreter": {
    "hash": "86019bca4f80d61fd4a4dad83e17891f08814b955a46e7a0c29d13967fb3c378"
   }
  },
  "orig_nbformat": 2
 },
 "nbformat": 4,
 "nbformat_minor": 2
}